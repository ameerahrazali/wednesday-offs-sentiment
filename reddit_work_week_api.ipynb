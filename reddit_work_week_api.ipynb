{
 "cells": [
  {
   "cell_type": "code",
   "execution_count": 1,
   "id": "aecc523e",
   "metadata": {},
   "outputs": [],
   "source": [
    "# set up reddit API credentials\n",
    "import praw\n",
    "import pandas as pd\n",
    "\n",
    "reddit = praw.Reddit(\n",
    "    client_id='AwiHJxqTjBU8eNww5ET9oA',\n",
    "    client_secret='gzfSoB3xaf3pPj8TzL1KWmhJDMIP1g',\n",
    "    user_agent='work-week-bot by u/wanknowsnothing '\n",
    ")"
   ]
  },
  {
   "cell_type": "code",
   "execution_count": 2,
   "id": "8033c2d1",
   "metadata": {},
   "outputs": [],
   "source": [
    "# load the specific reddit thread\n",
    "url = \"https://www.reddit.com/r/unpopularopinion/comments/1m0t58w/an_ideal_4day_work_week_would_have_wednesday_off/\"\n",
    "submission = reddit.submission(url=url)"
   ]
  },
  {
   "cell_type": "code",
   "execution_count": 3,
   "id": "ca91d65b",
   "metadata": {},
   "outputs": [],
   "source": [
    "# expand all comment threads\n",
    "submission.comments.replace_more(limit=None)\n",
    "comments = submission.comments.list()"
   ]
  },
  {
   "cell_type": "code",
   "execution_count": 4,
   "id": "c7ca1ebe",
   "metadata": {},
   "outputs": [],
   "source": [
    "# extract comment data\n",
    "data = []\n",
    "for comment in comments:\n",
    "    data.append({\n",
    "        \"comment_id\": comment.id,\n",
    "        \"parent_id\": comment.parent_id,\n",
    "        \"author\": str(comment.author),\n",
    "        \"score\": comment.score,\n",
    "        \"body\": comment.body,\n",
    "        \"created_utc\": comment.created_utc,\n",
    "        \"depth\": comment.depth,\n",
    "        \"permalink\": f\"https://www.reddit.com{comment.permalink}\"\n",
    "    })"
   ]
  },
  {
   "cell_type": "code",
   "execution_count": 5,
   "id": "095a23c2",
   "metadata": {},
   "outputs": [],
   "source": [
    "# convert to DataFrame\n",
    "df = pd.DataFrame(data)"
   ]
  },
  {
   "cell_type": "code",
   "execution_count": 6,
   "id": "84b25946",
   "metadata": {},
   "outputs": [
    {
     "name": "stdout",
     "output_type": "stream",
     "text": [
      "Saved 1127 comments to 'work_week.csv'\n"
     ]
    }
   ],
   "source": [
    "# save to CSV\n",
    "df.to_csv(\"work_week.csv\", index=False, encoding='utf-8')\n",
    "\n",
    "print(f\"Saved {len(df)} comments to 'work_week.csv'\")"
   ]
  }
 ],
 "metadata": {
  "kernelspec": {
   "display_name": "Python 3 (ipykernel)",
   "language": "python",
   "name": "python3"
  },
  "language_info": {
   "codemirror_mode": {
    "name": "ipython",
    "version": 3
   },
   "file_extension": ".py",
   "mimetype": "text/x-python",
   "name": "python",
   "nbconvert_exporter": "python",
   "pygments_lexer": "ipython3",
   "version": "3.11.5"
  }
 },
 "nbformat": 4,
 "nbformat_minor": 5
}
